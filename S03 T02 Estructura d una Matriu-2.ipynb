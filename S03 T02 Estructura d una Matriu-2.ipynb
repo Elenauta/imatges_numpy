{
 "cells": [
  {
   "cell_type": "markdown",
   "id": "626cc294",
   "metadata": {},
   "source": [
    "Anem a practicar i a familiaritzar-nos amb l'estructura de Matrius, dimensió, forma, vectorització i Broadcasting ."
   ]
  },
  {
   "cell_type": "markdown",
   "id": "30ff924a",
   "metadata": {},
   "source": [
    " ### Nivell 1 ⭐️"
   ]
  },
  {
   "cell_type": "markdown",
   "id": "73be4efc",
   "metadata": {},
   "source": [
    "Treballem els conceptes de l'estructura d'una matriu, dimensió, eixos i la vectorització que ens permet reduir l'ús de for loops en operacions aritmètiques o matemàtiques.."
   ]
  },
  {
   "cell_type": "markdown",
   "id": "a12008d7",
   "metadata": {},
   "source": [
    "## Exercici 1 "
   ]
  },
  {
   "cell_type": "markdown",
   "id": "ed7312c0",
   "metadata": {},
   "source": [
    "Crea un np.array d'una dimensió, que inclogui almenys 8 nombres sencers, data type int64. Mostra la dimensió i la forma de la matriu. .\n",
    "\n"
   ]
  },
  {
   "cell_type": "code",
   "execution_count": 2,
   "id": "3dc71fdc",
   "metadata": {},
   "outputs": [
    {
     "name": "stdout",
     "output_type": "stream",
     "text": [
      "la dimensió de la matriu és 1\n",
      "La forma de la matriu és (8,)\n"
     ]
    }
   ],
   "source": [
    "import numpy as np\n",
    "nombres = np.array([1, 2, 3, 4, 5, 6, 7, 8], dtype = 'int64', ndmin = 1)\n",
    "print(\"la dimensió de la matriu és\", nombres.ndim)\n",
    "print(\"La forma de la matriu és\", nombres.shape)"
   ]
  },
  {
   "cell_type": "markdown",
   "id": "49df95e3",
   "metadata": {},
   "source": [
    "## Exercici 2 "
   ]
  },
  {
   "cell_type": "markdown",
   "id": "8755ef54",
   "metadata": {},
   "source": [
    "De la matriu de l'exercici 1, calcula el valor mitjà dels valors introduïts i resta la mitjana resultant de cada un dels valors de la matriu."
   ]
  },
  {
   "cell_type": "code",
   "execution_count": 3,
   "id": "1a418815",
   "metadata": {},
   "outputs": [
    {
     "name": "stdout",
     "output_type": "stream",
     "text": [
      "4.5\n",
      "[-3.5 -2.5 -1.5 -0.5  0.5  1.5  2.5  3.5]\n"
     ]
    }
   ],
   "source": [
    "x = np.mean(nombres) # x és el valor mitjà de la matriu\n",
    "print(x)\n",
    "new_nombres = nombres - x \n",
    "print(new_nombres)"
   ]
  },
  {
   "cell_type": "markdown",
   "id": "2d2e4cca",
   "metadata": {},
   "source": [
    "## Exercici 3"
   ]
  },
  {
   "cell_type": "markdown",
   "id": "865fa284",
   "metadata": {},
   "source": [
    "Crea una matriu bidimensional amb una forma de 5 x 5. Extreu el valor màxim de la matriu, i els valors màxims de cadascun dels seus eixos.\n",
    "\n"
   ]
  },
  {
   "cell_type": "code",
   "execution_count": 4,
   "id": "626cbe4e",
   "metadata": {},
   "outputs": [
    {
     "name": "stdout",
     "output_type": "stream",
     "text": [
      "[[5 4 7 7 3]\n",
      " [9 7 3 9 8]\n",
      " [4 6 6 5 9]\n",
      " [6 7 6 5 4]\n",
      " [7 3 9 8 8]]\n",
      "El valor màxim de la matriu es 9\n",
      "El valor màxim de l'eix vertical es [9 7 9 9 9]\n",
      "El valor màxim de l'eix horitzontal es [7 9 9 7 9]\n"
     ]
    }
   ],
   "source": [
    "import numpy as np\n",
    "\n",
    "m2D = np.array([[5, 4, 7, 7, 3], [9, 7, 3, 9, 8], [4, 6, 6, 5, 9], [6, 7, 6 , 5, 4], [7, 3, 9, 8, 8]], ndmin=2)\n",
    "print(m2D)\n",
    "\n",
    "print(\"El valor màxim de la matriu es\", np.amax(m2D))\n",
    "print(\"El valor màxim de l'eix vertical es\", np.amax(m2D, axis = 0))\n",
    "print(\"El valor màxim de l'eix horitzontal es\", np.amax(m2D, axis = 1))"
   ]
  },
  {
   "cell_type": "markdown",
   "id": "884c2e28",
   "metadata": {},
   "source": [
    " ### Nivell 2  ⭐️⭐️"
   ]
  },
  {
   "cell_type": "markdown",
   "id": "0b48ddd8",
   "metadata": {},
   "source": [
    "Treballem els conceptes de l'estructura d'una matriu, Broadcasting, indexació, Mask..\n",
    "\n"
   ]
  },
  {
   "cell_type": "markdown",
   "id": "536d44ca",
   "metadata": {},
   "source": [
    "## Exercici 4"
   ]
  },
  {
   "cell_type": "markdown",
   "id": "36791e26",
   "metadata": {},
   "source": [
    "Mostreu-me amb exemples de diferents matrius, __la regla fonamental de Broadcasting__ que diu : \"les matrius es poden transmetre / broadcast si les seves dimensions coincideixen o si una de les matrius té una mida d'1\".\n",
    "\n"
   ]
  },
  {
   "cell_type": "code",
   "execution_count": 5,
   "id": "03dadccb",
   "metadata": {
    "scrolled": true
   },
   "outputs": [
    {
     "data": {
      "text/plain": [
       "(array([[ 1,  2,  3],\n",
       "        [ 4,  5,  6],\n",
       "        [ 7,  8,  9],\n",
       "        [10, 11, 12]]),\n",
       " array([[ 3.,  5.,  7.],\n",
       "        [ 9., 11., 13.],\n",
       "        [15., 17., 19.],\n",
       "        [21., 23., 25.]]))"
      ]
     },
     "execution_count": 5,
     "metadata": {},
     "output_type": "execute_result"
    }
   ],
   "source": [
    "import numpy as np\n",
    "\n",
    "# matrius amb les mateixes dimensions\n",
    "matriu1 = np.arange(1, 13).reshape(4, 3)\n",
    "matriu2 = np.linspace(3, 25, 12).reshape(4, 3)\n",
    "matriu1, matriu2"
   ]
  },
  {
   "cell_type": "code",
   "execution_count": 6,
   "id": "5f7740e1",
   "metadata": {},
   "outputs": [
    {
     "data": {
      "text/plain": [
       "array([[  3.,  10.,  21.],\n",
       "       [ 36.,  55.,  78.],\n",
       "       [105., 136., 171.],\n",
       "       [210., 253., 300.]])"
      ]
     },
     "execution_count": 6,
     "metadata": {},
     "output_type": "execute_result"
    }
   ],
   "source": [
    "matriu1 * matriu2"
   ]
  },
  {
   "cell_type": "code",
   "execution_count": 7,
   "id": "a0369b70",
   "metadata": {},
   "outputs": [
    {
     "data": {
      "text/plain": [
       "array([[ 4.,  7., 10.],\n",
       "       [13., 16., 19.],\n",
       "       [22., 25., 28.],\n",
       "       [31., 34., 37.]])"
      ]
     },
     "execution_count": 7,
     "metadata": {},
     "output_type": "execute_result"
    }
   ],
   "source": [
    "matriu1 + matriu2"
   ]
  },
  {
   "cell_type": "code",
   "execution_count": 8,
   "id": "16898247",
   "metadata": {},
   "outputs": [
    {
     "data": {
      "text/plain": [
       "array([[ -2.,  -3.,  -4.],\n",
       "       [ -5.,  -6.,  -7.],\n",
       "       [ -8.,  -9., -10.],\n",
       "       [-11., -12., -13.]])"
      ]
     },
     "execution_count": 8,
     "metadata": {},
     "output_type": "execute_result"
    }
   ],
   "source": [
    "matriu1 - matriu2"
   ]
  },
  {
   "cell_type": "code",
   "execution_count": 9,
   "id": "77507cdc",
   "metadata": {},
   "outputs": [
    {
     "data": {
      "text/plain": [
       "array([[ 2.,  3.,  4.],\n",
       "       [ 5.,  6.,  7.],\n",
       "       [ 8.,  9., 10.],\n",
       "       [11., 12., 13.]])"
      ]
     },
     "execution_count": 9,
     "metadata": {},
     "output_type": "execute_result"
    }
   ],
   "source": [
    "matriu2 - matriu1"
   ]
  },
  {
   "cell_type": "code",
   "execution_count": 10,
   "id": "285af398",
   "metadata": {},
   "outputs": [
    {
     "data": {
      "text/plain": [
       "array([[3.        , 2.5       , 2.33333333],\n",
       "       [2.25      , 2.2       , 2.16666667],\n",
       "       [2.14285714, 2.125     , 2.11111111],\n",
       "       [2.1       , 2.09090909, 2.08333333]])"
      ]
     },
     "execution_count": 10,
     "metadata": {},
     "output_type": "execute_result"
    }
   ],
   "source": [
    "matriu2 / matriu1"
   ]
  },
  {
   "cell_type": "code",
   "execution_count": 11,
   "id": "5169a861",
   "metadata": {},
   "outputs": [
    {
     "data": {
      "text/plain": [
       "(array([[ 1,  2,  3],\n",
       "        [ 4,  5,  6],\n",
       "        [ 7,  8,  9],\n",
       "        [10, 11, 12]]),\n",
       " array([[ 3.        ],\n",
       "        [10.33333333],\n",
       "        [17.66666667],\n",
       "        [25.        ]]))"
      ]
     },
     "execution_count": 11,
     "metadata": {},
     "output_type": "execute_result"
    }
   ],
   "source": [
    "# matrius amb la mateixa longitud de files\n",
    "matriu2 = np.linspace(3, 25, 4).reshape(4, 1)\n",
    "matriu1, matriu2"
   ]
  },
  {
   "cell_type": "code",
   "execution_count": 12,
   "id": "cb8651c8",
   "metadata": {},
   "outputs": [
    {
     "data": {
      "text/plain": [
       "array([[ -2.        ,  -1.        ,   0.        ],\n",
       "       [ -6.33333333,  -5.33333333,  -4.33333333],\n",
       "       [-10.66666667,  -9.66666667,  -8.66666667],\n",
       "       [-15.        , -14.        , -13.        ]])"
      ]
     },
     "execution_count": 12,
     "metadata": {},
     "output_type": "execute_result"
    }
   ],
   "source": [
    "matriu1 - matriu2"
   ]
  },
  {
   "cell_type": "code",
   "execution_count": 13,
   "id": "d3f5e172",
   "metadata": {},
   "outputs": [
    {
     "data": {
      "text/plain": [
       "array([[  3.        ,   6.        ,   9.        ],\n",
       "       [ 41.33333333,  51.66666667,  62.        ],\n",
       "       [123.66666667, 141.33333333, 159.        ],\n",
       "       [250.        , 275.        , 300.        ]])"
      ]
     },
     "execution_count": 13,
     "metadata": {},
     "output_type": "execute_result"
    }
   ],
   "source": [
    "matriu2 * matriu1"
   ]
  },
  {
   "cell_type": "code",
   "execution_count": 14,
   "id": "97777cc6",
   "metadata": {},
   "outputs": [
    {
     "data": {
      "text/plain": [
       "(array([[ 1,  2,  3],\n",
       "        [ 4,  5,  6],\n",
       "        [ 7,  8,  9],\n",
       "        [10, 11, 12]]),\n",
       " array([[[5]]]))"
      ]
     },
     "execution_count": 14,
     "metadata": {},
     "output_type": "execute_result"
    }
   ],
   "source": [
    "# matriu de mida 1 (amb 3 dimensions)\n",
    "matriu2 = np.array([[[5]]])\n",
    "matriu1, matriu2"
   ]
  },
  {
   "cell_type": "code",
   "execution_count": 15,
   "id": "58cb311f",
   "metadata": {},
   "outputs": [
    {
     "data": {
      "text/plain": [
       "array([[[ 6,  7,  8],\n",
       "        [ 9, 10, 11],\n",
       "        [12, 13, 14],\n",
       "        [15, 16, 17]]])"
      ]
     },
     "execution_count": 15,
     "metadata": {},
     "output_type": "execute_result"
    }
   ],
   "source": [
    "matriu1 + matriu2"
   ]
  },
  {
   "cell_type": "code",
   "execution_count": 16,
   "id": "f8157693",
   "metadata": {},
   "outputs": [
    {
     "data": {
      "text/plain": [
       "array([[[0.2, 0.4, 0.6],\n",
       "        [0.8, 1. , 1.2],\n",
       "        [1.4, 1.6, 1.8],\n",
       "        [2. , 2.2, 2.4]]])"
      ]
     },
     "execution_count": 16,
     "metadata": {},
     "output_type": "execute_result"
    }
   ],
   "source": [
    "matriu1 / matriu2"
   ]
  },
  {
   "cell_type": "markdown",
   "id": "9f7824e8",
   "metadata": {},
   "source": [
    "## Exercici 5"
   ]
  },
  {
   "cell_type": "markdown",
   "id": "6617fea3",
   "metadata": {},
   "source": [
    "Utilitza la Indexació per extreure els valors d'una columna i una fila de la matriu. I suma els seus valors.\n",
    "\n"
   ]
  },
  {
   "cell_type": "code",
   "execution_count": 17,
   "id": "5964cb73",
   "metadata": {},
   "outputs": [
    {
     "data": {
      "text/plain": [
       "array([[ 6,  7,  8],\n",
       "       [ 9, 10, 11],\n",
       "       [12, 13, 14]])"
      ]
     },
     "execution_count": 17,
     "metadata": {},
     "output_type": "execute_result"
    }
   ],
   "source": [
    "matrix = np.arange(6, 15).reshape(3, 3)\n",
    "matrix"
   ]
  },
  {
   "cell_type": "code",
   "execution_count": 18,
   "id": "116d0838",
   "metadata": {},
   "outputs": [
    {
     "data": {
      "text/plain": [
       "array([14, 18, 22])"
      ]
     },
     "execution_count": 18,
     "metadata": {},
     "output_type": "execute_result"
    }
   ],
   "source": [
    "columna3 = matrix[:, 2]\n",
    "fila1 = matrix[0, :]\n",
    "columna3 + fila1"
   ]
  },
  {
   "cell_type": "markdown",
   "id": "9d677700",
   "metadata": {},
   "source": [
    "## Exercici 6"
   ]
  },
  {
   "cell_type": "markdown",
   "id": "62c92fd4",
   "metadata": {},
   "source": [
    "Mask la matriu anterior, realitzeu un càlcul booleà vectoritzat, __agafant cada element i comprovant si es divideix uniformement per quatre.__\n",
    "\n",
    "Això retorna una matriu de mask de la mateixa forma amb els resultats elementals del càlcul."
   ]
  },
  {
   "cell_type": "code",
   "execution_count": 28,
   "id": "b9ad2984",
   "metadata": {},
   "outputs": [
    {
     "data": {
      "text/plain": [
       "array([[False, False,  True],\n",
       "       [False, False, False],\n",
       "       [ True, False, False]])"
      ]
     },
     "execution_count": 28,
     "metadata": {},
     "output_type": "execute_result"
    }
   ],
   "source": [
    "mask = matrix % 4 == 0\n",
    "mask"
   ]
  },
  {
   "cell_type": "markdown",
   "id": "0ae4df27",
   "metadata": {},
   "source": [
    "## Exercici 7"
   ]
  },
  {
   "cell_type": "markdown",
   "id": "808238fe",
   "metadata": {},
   "source": [
    "A continuació, utilitzeu aquesta màscara per indexar a la matriu de números original. Això fa que la matriu perdi la seva forma original, reduint-la a una dimensió, però encara obteniu les dades que esteu cercant.\n",
    "\n"
   ]
  },
  {
   "cell_type": "code",
   "execution_count": 20,
   "id": "b362f508",
   "metadata": {},
   "outputs": [
    {
     "data": {
      "text/plain": [
       "array([ 8, 12])"
      ]
     },
     "execution_count": 20,
     "metadata": {},
     "output_type": "execute_result"
    }
   ],
   "source": [
    "matrix[mask]"
   ]
  },
  {
   "cell_type": "markdown",
   "id": "6d041702",
   "metadata": {},
   "source": [
    " ### Nivell 3 ⭐️⭐️⭐️"
   ]
  },
  {
   "cell_type": "markdown",
   "id": "85ad07b2",
   "metadata": {},
   "source": [
    "Manipulació d’imatges amb Matplotlib.\n",
    "\n",
    "Carregareu qualsevol imatge (jpg, png ..) amb Matplotlib. adoneu-vos que les imatges RGB (Red, Green, Blue) són realment només amplades × alçades × 3 matrius (tres canals Vermell, Verd i Blau), una per cada color de nombres enters int8,\n",
    "\n",
    "manipuleu aquests bytes i torneu a utilitzar Matplotlib per desar la imatge modificada un cop hàgiu acabat.\n",
    "\n",
    "Ajuda:Importeu, import matplotlib.image as mpimg. estudieu el metodde mpimg.imread(()"
   ]
  },
  {
   "cell_type": "code",
   "execution_count": 21,
   "id": "3df277d9",
   "metadata": {},
   "outputs": [],
   "source": [
    "import matplotlib.pyplot as plt\n",
    "import matplotlib.image as mpimg"
   ]
  },
  {
   "cell_type": "code",
   "execution_count": 22,
   "id": "e0476324",
   "metadata": {},
   "outputs": [
    {
     "data": {
      "text/plain": [
       "((278, 450, 3), dtype('uint8'))"
      ]
     },
     "execution_count": 22,
     "metadata": {},
     "output_type": "execute_result"
    }
   ],
   "source": [
    "img = mpimg.imread('imatge.jpg')\n",
    "img.shape, img.dtype"
   ]
  },
  {
   "cell_type": "code",
   "execution_count": 23,
   "id": "57d7316c",
   "metadata": {},
   "outputs": [
    {
     "data": {
      "image/png": "[encoded data removed]",
      "text/plain": [
       "<Figure size 432x288 with 1 Axes>"
      ]
     },
     "metadata": {
      "needs_background": "light"
     },
     "output_type": "display_data"
    }
   ],
   "source": [
    "imgplot = plt.imshow(img)"
   ]
  },
  {
   "cell_type": "markdown",
   "id": "b0022be6",
   "metadata": {},
   "source": [
    "## Exercici 8"
   ]
  },
  {
   "cell_type": "markdown",
   "id": "e494d418",
   "metadata": {},
   "source": [
    "Mostreu-me a veure que passa quan eliminem el canal G Verd o B Blau.\n",
    "\n",
    "Mostreu-me a veure què passa quan eliminem el canal G Verd o B Blau. Hauries d'utilitzar la indexació per seleccionar el canal que voleu anul·lar.\n",
    "\n",
    "Utilitzar el mètode, mpimg.imsave () de la llibreria importada, per guardar les imatges modificades i que haureu de pujar al vostre repositori a github."
   ]
  },
  {
   "cell_type": "code",
   "execution_count": 56,
   "id": "f83e8b51",
   "metadata": {},
   "outputs": [],
   "source": [
    "#Mostreu-me a veure què passa quan eliminem el canal G Verd o B Blau. \n",
    "#Hauries d'utilitzar la indexació per seleccionar el canal que voleu anul·lar.\n",
    "\n",
    "img_modif = img.copy()\n",
    "#eliminaré el blau b=0\n",
    "img_modif[:,:,2]=0"
   ]
  },
  {
   "cell_type": "code",
   "execution_count": 57,
   "id": "9081f831",
   "metadata": {},
   "outputs": [
    {
     "data": {
      "image/png": "[encoded data removed]",
      "text/plain": [
       "<Figure size 432x288 with 1 Axes>"
      ]
     },
     "metadata": {
      "needs_background": "light"
     },
     "output_type": "display_data"
    }
   ],
   "source": [
    "imgplot = plt.imshow(img_modif)"
   ]
  },
  {
   "cell_type": "code",
   "execution_count": 58,
   "id": "1aeaadb2",
   "metadata": {},
   "outputs": [],
   "source": [
    "#Utilitzar el mètode, mpimg.imsave () de la llibreria importada, per guardar les imatges modificades \n",
    "#i que haureu de pujar al vostre repositori a github.\n",
    "plt.imsave(\"imatge_modif.jpg\", img_modif)"
   ]
  },
  {
   "cell_type": "markdown",
   "id": "0289fa64",
   "metadata": {},
   "source": [
    "#### Objectius\n",
    "- dimensions, formes\n",
    "- Vectoritzacio, Broadcasting\n",
    "- Index i mask\n",
    "- Manipulació imatges amb numpy\n",
    "#### Durada\n",
    "3 dies\n",
    "#### Lliurament\n",
    "Enviar la URL a un repositori anomenat __imatges_numpy__ que contingui la solució. S'ha d'entregar cada Excercici en un mateix fitxer i en un repositori."
   ]
  }
 ],
 "metadata": {
  "kernelspec": {
   "display_name": "Python 3",
   "language": "python",
   "name": "python3"
  },
  "language_info": {
   "codemirror_mode": {
    "name": "ipython",
    "version": 3
   },
   "file_extension": ".py",
   "mimetype": "text/x-python",
   "name": "python",
   "nbconvert_exporter": "python",
   "pygments_lexer": "ipython3",
   "version": "3.8.8"
  }
 },
 "nbformat": 4,
 "nbformat_minor": 5
}
